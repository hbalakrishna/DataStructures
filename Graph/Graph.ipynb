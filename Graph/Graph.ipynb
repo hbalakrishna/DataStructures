{
 "cells": [
  {
   "cell_type": "code",
   "execution_count": 1,
   "metadata": {
    "collapsed": true
   },
   "outputs": [],
   "source": [
    "class Vertex:\n",
    "    def __init__(self, key):\n",
    "        self.id = key\n",
    "        self.connectedTo = {}\n",
    "\n",
    "    def addNeighbor(self, neighbour, weight = 0):\n",
    "        self.connectedTo[neighbour] = weight\n",
    "\n",
    "    #Getter for returning all the connections to the neighbour\n",
    "    def getConnections(self):\n",
    "        return self.connectedTo.keys()\n",
    "\n",
    "    def getId(self):\n",
    "        return self.id\n",
    "\n",
    "    #Get the weight of the neighbour\n",
    "    def getWeights(self, neighbour):\n",
    "        return self.connectedTo[neighbour]\n",
    "\n",
    "\n",
    "    #For printing out all the vertices connected to the vertex\n",
    "    def __str__(self):\n",
    "        return str(self.id) + 'is Connected to' + str([x.id for x in self.connectedTo])"
   ]
  },
  {
   "cell_type": "code",
   "execution_count": 12,
   "metadata": {
    "collapsed": true
   },
   "outputs": [],
   "source": [
    "class Graph:\n",
    "    \n",
    "    #vertList is used as adjacency list\n",
    "    def __init__(self):\n",
    "        self.vertList = {}\n",
    "        self.numVertices = 0\n",
    "    \n",
    "    def addVertex(self, key):\n",
    "        self.numVertices += 1\n",
    "        newVertex = Vertex(key)\n",
    "        self.vertList[key] = newVertex\n",
    "    \n",
    "    def getVertList(self, n):\n",
    "        if n in self.vertList:\n",
    "            return self.vertList[n]\n",
    "        else:\n",
    "            return None \n",
    "    \n",
    "    def addEdge(self, fromV, toV, cost = 0):\n",
    "        if fromV not in self.vertList:\n",
    "            nv = self.addVertex(fromV)\n",
    "        if toV not in self.vertList:\n",
    "            nv = self.addVertex(toV)\n",
    "        \n",
    "        self.vertList[fromV].addNeighbor(self.vertList[toV], cost)\n",
    "    \n",
    "    def getVertices(self):\n",
    "        return self.vertList.keys()\n",
    "    \n",
    "    #When a Graph object is called it returns the iterable object of the values\n",
    "    def __iter__(self):\n",
    "        return iter(self.vertList.values())\n",
    "    \n",
    "    def __contains__(self, n):\n",
    "        return n in self.vertList\n",
    "        "
   ]
  },
  {
   "cell_type": "code",
   "execution_count": 13,
   "metadata": {
    "collapsed": true
   },
   "outputs": [],
   "source": [
    "g = Graph()"
   ]
  },
  {
   "cell_type": "code",
   "execution_count": 14,
   "metadata": {
    "collapsed": true
   },
   "outputs": [],
   "source": [
    "for i in range(5):\n",
    "    g.addVertex(i)"
   ]
  },
  {
   "cell_type": "code",
   "execution_count": 15,
   "metadata": {},
   "outputs": [
    {
     "data": {
      "text/plain": [
       "{0: <__main__.Vertex at 0x104a6d9e8>,\n",
       " 1: <__main__.Vertex at 0x104a6d630>,\n",
       " 2: <__main__.Vertex at 0x104a6def0>,\n",
       " 3: <__main__.Vertex at 0x104a6db38>,\n",
       " 4: <__main__.Vertex at 0x104a6db70>}"
      ]
     },
     "execution_count": 15,
     "metadata": {},
     "output_type": "execute_result"
    }
   ],
   "source": [
    "g.vertList"
   ]
  },
  {
   "cell_type": "code",
   "execution_count": 16,
   "metadata": {},
   "outputs": [],
   "source": [
    "g.addEdge(0, 1, 2)"
   ]
  },
  {
   "cell_type": "code",
   "execution_count": 18,
   "metadata": {},
   "outputs": [
    {
     "name": "stdout",
     "output_type": "stream",
     "text": [
      "0is Connected to[1]\n",
      "dict_keys([<__main__.Vertex object at 0x104a6d630>])\n",
      "\n",
      "\n",
      "1is Connected to[]\n",
      "dict_keys([])\n",
      "\n",
      "\n",
      "2is Connected to[]\n",
      "dict_keys([])\n",
      "\n",
      "\n",
      "3is Connected to[]\n",
      "dict_keys([])\n",
      "\n",
      "\n",
      "4is Connected to[]\n",
      "dict_keys([])\n",
      "\n",
      "\n"
     ]
    }
   ],
   "source": [
    "for v in g:\n",
    "    print(v)\n",
    "    print(v.getConnections())\n",
    "    print('\\n')"
   ]
  },
  {
   "cell_type": "code",
   "execution_count": null,
   "metadata": {
    "collapsed": true
   },
   "outputs": [],
   "source": []
  }
 ],
 "metadata": {
  "kernelspec": {
   "display_name": "Python 3",
   "language": "python",
   "name": "python3"
  },
  "language_info": {
   "codemirror_mode": {
    "name": "ipython",
    "version": 3
   },
   "file_extension": ".py",
   "mimetype": "text/x-python",
   "name": "python",
   "nbconvert_exporter": "python",
   "pygments_lexer": "ipython3",
   "version": "3.6.0"
  }
 },
 "nbformat": 4,
 "nbformat_minor": 2
}
